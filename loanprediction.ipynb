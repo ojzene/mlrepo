{
 "cells": [
  {
   "cell_type": "markdown",
   "metadata": {},
   "source": [
    "Machine Learning Coursework on Loan Prediction"
   ]
  },
  {
   "cell_type": "markdown",
   "metadata": {},
   "source": [
    "LOAD NECESSARY PYTHON LIBRARIES"
   ]
  },
  {
   "cell_type": "code",
   "execution_count": null,
   "metadata": {},
   "outputs": [],
   "source": [
    "import numpy as np\n",
    "import pandas as pd\n",
    "import warnings # warning filter\n",
    "\n",
    "#plotting libraries\n",
    "import matplotlib.pyplot as plt \n",
    "%matplotlib inline\n",
    "import seaborn as sns\n",
    "\n",
    "#relevant ML libraries\n",
    "from sklearn.impute import IterativeImputer\n",
    "from sklearn.preprocessing import LabelEncoder\n",
    "from sklearn.model_selection import train_test_split\n",
    "from sklearn.metrics import confusion_matrix\n",
    "from sklearn.metrics import classification_report\n",
    "from sklearn.metrics import accuracy_score\n"
   ]
  },
  {
   "cell_type": "markdown",
   "metadata": {},
   "source": [
    "LOAD OUR LOAN TRAINING AND TEST DATASET"
   ]
  },
  {
   "cell_type": "code",
   "execution_count": null,
   "metadata": {},
   "outputs": [],
   "source": [
    "train = pd.read_csv(\"train_u6lujuX_CVtuZ9i.csv\")\n",
    "test = pd.read_csv(\"test_Y3wMUE5_7gLdaTN.csv\")\n",
    "ss = pd.read_csv(\"sample_submission.csv\")"
   ]
  },
  {
   "cell_type": "markdown",
   "metadata": {},
   "source": [
    "TO DISPLAY TRAIN DATA SIZE"
   ]
  },
  {
   "cell_type": "code",
   "execution_count": null,
   "metadata": {},
   "outputs": [],
   "source": [
    "train.shape"
   ]
  },
  {
   "cell_type": "markdown",
   "metadata": {},
   "source": [
    "TO DISPLAY TEST DATA SIZE"
   ]
  },
  {
   "cell_type": "code",
   "execution_count": null,
   "metadata": {},
   "outputs": [],
   "source": [
    "test.shape"
   ]
  },
  {
   "cell_type": "markdown",
   "metadata": {},
   "source": [
    "TO SHOW OUR TEST DATA"
   ]
  },
  {
   "cell_type": "code",
   "execution_count": null,
   "metadata": {},
   "outputs": [],
   "source": [
    "test"
   ]
  },
  {
   "cell_type": "markdown",
   "metadata": {},
   "source": [
    "TO DO A DATA PREPROCESSING - TO DROP THE UNWANTED COLUMN (LOAN ID)"
   ]
  },
  {
   "cell_type": "code",
   "execution_count": null,
   "metadata": {},
   "outputs": [],
   "source": [
    "data = pd.concat([train, test])\n",
    "data.drop(\"Loan_ID\", axis=1, inplace=True)\n",
    "data"
   ]
  },
  {
   "cell_type": "markdown",
   "metadata": {},
   "source": [
    "TO IDENTIFY MISSING VALUES"
   ]
  },
  {
   "cell_type": "code",
   "execution_count": null,
   "metadata": {},
   "outputs": [],
   "source": [
    "data.isnull().sum()"
   ]
  },
  {
   "cell_type": "markdown",
   "metadata": {},
   "source": [
    "INPUT THE MISSING VALUES"
   ]
  },
  {
   "cell_type": "code",
   "execution_count": null,
   "metadata": {},
   "outputs": [],
   "source": [
    "for i in [data]:\n",
    "    i[\"Gender\"] = i[\"Gender\"].fillna(data.Gender.dropna().mode()[0])\n",
    "    i[\"Married\"] = i[\"Married\"].fillna(data.Married.dropna().mode()[0])\n",
    "    i[\"Dependents\"] = i[\"Dependents\"].fillna(data.Dependents.dropna().mode()[0])\n",
    "    i[\"Self_Employed\"] = i[\"Self_Employed\"].fillna(data.Self_Employed.dropna().mode()[0])\n",
    "    i[\"LoanAmount\"] = i[\"LoanAmount\"].fillna(data.LoanAmount.dropna().mode()[0])\n",
    "    i[\"Loan_Amount_Term\"] = i[\"Loan_Amount_Term\"].fillna(data.Loan_Amount_Term.dropna().mode()[0])\n",
    "    i[\"Credit_History\"] = i[\"Credit_History\"].fillna(data.Credit_History.dropna().mode()[0])\n",
    "    i[\"Loan_Status\"] = i[\"Loan_Status\"].fillna(data.Loan_Status.dropna().mode()[0])\n"
   ]
  },
  {
   "cell_type": "code",
   "execution_count": null,
   "metadata": {},
   "outputs": [],
   "source": [
    "# import warnings\n",
    "# warnings.filterwarnings(action='ignore', category=DeprecationWarning)\n",
    "# warnings.filterwarnings(action='ignore', category=UserWarning)\n",
    "# warnings.filterwarnings(action='ignore', category=FutureWarning)\n",
    "# warnings.filterwarnings(action='ignore', category=RuntimeWarning)\n",
    "\n",
    "from sklearn.experimental import enable_iterative_imputer\n",
    "from sklearn.impute import IterativeImputer\n",
    "\n",
    "\n",
    "from sklearn.ensemble import RandomForestRegressor\n",
    "data1 = data.loc[:, ['LoanAmount', 'Loan_Amount_Term']]\n",
    "\n",
    "imp = IterativeImputer(RandomForestRegressor(), max_iter=10, random_state=0)\n",
    "data1 = pd.DataFrame(imp.fit_transform(data1), columns=data1.columns)"
   ]
  },
  {
   "cell_type": "code",
   "execution_count": null,
   "metadata": {},
   "outputs": [],
   "source": [
    "for i in [data]:\n",
    "    i[\"Gender\"] = i[\"Gender\"].map({\"Male\":0,\"Female\":1}).astype(int)\n",
    "    i[\"Married\"] = i[\"Married\"].map({\"No\":0,\"Yes\":1}).astype(int)\n",
    "    i[\"Education\"] = i[\"Education\"].map({\"Not Graduate\":0,\"Graduate\":1}).astype(int)\n",
    "    i[\"Self_Employed\"] = i[\"Self_Employed\"].map({\"No\":0,\"Yes\":1}).astype(int)\n",
    "    i[\"Credit_History\"] = i[\"Credit_History\"].astype(int)\n",
    "   "
   ]
  },
  {
   "cell_type": "code",
   "execution_count": null,
   "metadata": {},
   "outputs": [],
   "source": [
    "new_train = data.iloc[:614]\n",
    "new_test = data.iloc[614:]\n",
    "\n",
    "# pd.set_option('mode.chained_assignment',None)\n"
   ]
  },
  {
   "cell_type": "code",
   "execution_count": null,
   "metadata": {},
   "outputs": [],
   "source": [
    "new_train[\"Loan_Status\"] = new_train[\"Loan_Status\"].map({\"N\":0,\"Y\":1}).astype(int)"
   ]
  },
  {
   "cell_type": "markdown",
   "metadata": {},
   "source": [
    "UNIVARIATE ANALYSIS"
   ]
  },
  {
   "cell_type": "code",
   "execution_count": null,
   "metadata": {},
   "outputs": [],
   "source": [
    "fig,ax = plt.subplots(2,4,figsize=(16,10))\n",
    "sns.countplot('Loan_Status',data=new_train,ax=ax[0][0])\n",
    "sns.countplot('Gender',data=new_train,ax=ax[0][1])\n",
    "sns.countplot('Married',data=new_train,ax=ax[0][2])\n",
    "sns.countplot('Education',data=new_train,ax=ax[0][3])\n",
    "sns.countplot('Self_Employed',data=new_train,ax=ax[1][0])\n",
    "sns.countplot('Property_Area',data=new_train,ax=ax[1][1])\n",
    "sns.countplot('Credit_History',data=new_train,ax=ax[1][2])\n",
    "sns.countplot('Dependents',data=new_train,ax=ax[1][3])"
   ]
  },
  {
   "cell_type": "markdown",
   "metadata": {},
   "source": [
    "BIVARIATE ANALYSIS"
   ]
  },
  {
   "cell_type": "code",
   "execution_count": null,
   "metadata": {},
   "outputs": [],
   "source": [
    "sns.boxplot(x='Loan_Status',y='ApplicantIncome',data=new_train)"
   ]
  },
  {
   "cell_type": "code",
   "execution_count": null,
   "metadata": {},
   "outputs": [],
   "source": [
    "sns.boxplot(x='Loan_Status',y='CoapplicantIncome',data=new_train)"
   ]
  },
  {
   "cell_type": "code",
   "execution_count": null,
   "metadata": {},
   "outputs": [],
   "source": [
    "sns.catplot(x='Gender',y='LoanAmount',data=new_train,kind='box')"
   ]
  },
  {
   "cell_type": "code",
   "execution_count": null,
   "metadata": {},
   "outputs": [],
   "source": [
    "sns.catplot(x='Gender',y='LoanAmount',data=data,kind='box',hue='Loan_Status', col='Married')"
   ]
  },
  {
   "cell_type": "code",
   "execution_count": null,
   "metadata": {},
   "outputs": [],
   "source": [
    "sns.catplot(x='Gender',y='CoapplicantIncome',data=data,kind='boxen',hue='Loan_Status', col='Property_Area')"
   ]
  },
  {
   "cell_type": "code",
   "execution_count": null,
   "metadata": {},
   "outputs": [],
   "source": [
    "# r = 0.00833\n",
    "# data['EMI'] = data.apply(lambda x: (x['LoanAmount']*r*((1+r)**x['Loan_Amount_Term']))/((1+r)**((x['Loan_Amount_Term'])-1)), axis=1)\n",
    "# data['Dependents_EMI_mean'] = data.groupby(['Dependents'])['EMI'].transform('mean')\n",
    "# data['LoanAmount_per_TotalIncome'] = data['LoanAmount']/data['TotalIncome']\n",
    "# data['Loan_Amount_Term_per_TotalIncome'] = data['Loan_Amount_Term']/data['TotalIncome']\n",
    "# data['EMI_per_Loan_Amount_Term'] = data['EMI']/data['Loan_Amount_Term']\n",
    "# data['EMI_per_LoanAmount'] = data['EMI']/data['LoanAmount']\n",
    "# data['Property_Area_LoanAmount_per_TotalIncome_mean'] = data.groupby(['Property_Area'])['LoanAmount_per_TotalIncome'].transform('mean')\n",
    "# data['Credit_History_Income_Sum'] = data.groupby(['Credit_History'])['TotalIncome'].transform('sum')\n",
    "# data['Dependents_LoanAmount_Sum'] = data.groupby(['Dependents'])['LoanAmount'].transform('sum')\n",
    "\n",
    "plt.figure(figsize = (10,10))\n",
    "correlation_martrix = new_train.corr()\n",
    "sns.heatmap(correlation_martrix,annot=True)\n",
    "plt.show"
   ]
  },
  {
   "cell_type": "markdown",
   "metadata": {},
   "source": [
    "GET TOTAL INCOME"
   ]
  },
  {
   "cell_type": "code",
   "execution_count": null,
   "metadata": {},
   "outputs": [],
   "source": [
    "for i in [data]:\n",
    "    i[\"TotalIncome\"] = i[\"ApplicantIncome\"]+i[\"CoapplicantIncome\"]\n",
    "\n",
    "i[\"TotalIncome\"]"
   ]
  },
  {
   "cell_type": "markdown",
   "metadata": {},
   "source": [
    "GET EQUATED MONTHLY INSTALLMENTS"
   ]
  },
  {
   "cell_type": "code",
   "execution_count": null,
   "metadata": {},
   "outputs": [],
   "source": [
    "r = 0.00833\n",
    "data['EMI'] = data.apply(lambda x: (x['LoanAmount']*r*((1+r)**x['Loan_Amount_Term']))/((1+r)**((x['Loan_Amount_Term'])-1)), axis=1)"
   ]
  },
  {
   "cell_type": "markdown",
   "metadata": {},
   "source": [
    "ADDITIONAL FEATURES"
   ]
  },
  {
   "cell_type": "code",
   "execution_count": null,
   "metadata": {},
   "outputs": [],
   "source": [
    "data['Dependents_EMI_mean'] = data.groupby(['Dependents'])['EMI'].transform('mean')\n",
    "\n",
    "data['LoanAmount_per_TotalIncome'] = data['LoanAmount']/data['TotalIncome']\n",
    "\n",
    "data['Loan_Amount_Term_per_TotalIncome'] = data['Loan_Amount_Term']/data['TotalIncome']\n",
    "\n",
    "data['EMI_per_Loan_Amount_Term'] = data['EMI']/data['Loan_Amount_Term']\n",
    "\n",
    "data['EMI_per_LoanAmount'] = data['EMI']/data['LoanAmount']\n",
    "\n",
    "data['Property_Area_LoanAmount_per_TotalIncome_mean'] = data.groupby(['Property_Area'])['LoanAmount_per_TotalIncome'].transform('mean')\n",
    "\n",
    "data['Credit_History_Income_Sum'] = data.groupby(['Credit_History'])['TotalIncome'].transform('sum')\n",
    "\n",
    "data['Dependents_LoanAmount_Sum'] = data.groupby(['Dependents'])['LoanAmount'].transform('sum')\n"
   ]
  },
  {
   "cell_type": "markdown",
   "metadata": {},
   "source": [
    "BIN INFORMATION"
   ]
  },
  {
   "cell_type": "code",
   "execution_count": null,
   "metadata": {},
   "outputs": [],
   "source": [
    "from sklearn.preprocessing import KBinsDiscretizer\n",
    "\n",
    "Loan_Amount_Term_discretizer = KBinsDiscretizer(n_bins=5, encode='ordinal', strategy='quantile')\n",
    "data['Loan_Amount_Term_Bins'] = Loan_Amount_Term_discretizer.fit_transform(data['Loan_Amount_Term'].values.reshape(-1,1)).astype(float)\n",
    "\n",
    "TotalIncome_discretizer = KBinsDiscretizer(n_bins=5, encode='ordinal', strategy='quantile')\n",
    "data['TotalIncome_Bins'] = TotalIncome_discretizer.fit_transform(data['TotalIncome'].values.reshape(-1,1)).astype(float)\n",
    "\n",
    "LoanAmount_per_TotalIncome_discretizer = KBinsDiscretizer(n_bins=5, encode='ordinal', strategy='quantile')\n",
    "data['LoanAmount_per_TotalIncome_Bins'] = LoanAmount_per_TotalIncome_discretizer.fit_transform(data['LoanAmount_per_TotalIncome'].values.reshape(-1,1)).astype(float)"
   ]
  },
  {
   "cell_type": "markdown",
   "metadata": {},
   "source": [
    "REMOVE UNWANTED COLUMN"
   ]
  },
  {
   "cell_type": "code",
   "execution_count": null,
   "metadata": {},
   "outputs": [],
   "source": [
    "data=data.drop(['EMI'],axis=1)\n",
    "data=data.drop(['TotalIncome'],axis=1)\n",
    "data=data.drop(['LoanAmount_per_TotalIncome'],axis=1)"
   ]
  },
  {
   "cell_type": "markdown",
   "metadata": {},
   "source": [
    "SIZE AFTER UNWANTED FEATURES"
   ]
  },
  {
   "cell_type": "code",
   "execution_count": null,
   "metadata": {},
   "outputs": [],
   "source": [
    "new_train.shape"
   ]
  },
  {
   "cell_type": "markdown",
   "metadata": {},
   "source": [
    "ADDING MODEL"
   ]
  },
  {
   "cell_type": "code",
   "execution_count": null,
   "metadata": {},
   "outputs": [],
   "source": [
    "x = new_train.drop(\"Loan_Status\",axis=1)\n",
    "y = new_train[\"Loan_Status\"]\n",
    "\n",
    "from sklearn.model_selection import train_test_split\n",
    "\n",
    "x_train, x_test, y_train, y_test = train_test_split(x,y, test_size=0.3)\n"
   ]
  },
  {
   "cell_type": "code",
   "execution_count": null,
   "metadata": {},
   "outputs": [],
   "source": [
    "x_train.shape"
   ]
  },
  {
   "cell_type": "code",
   "execution_count": null,
   "metadata": {},
   "outputs": [],
   "source": [
    "x_test.shape"
   ]
  },
  {
   "cell_type": "markdown",
   "metadata": {},
   "source": [
    "ALGORITHM FOR TRAINING"
   ]
  },
  {
   "cell_type": "code",
   "execution_count": null,
   "metadata": {},
   "outputs": [],
   "source": [
    "from sklearn.linear_model import LogisticRegression\n",
    "model = LogisticRegression()\n",
    "from sklearn.model_selection import cross_val_score\n",
    "from sklearn.metrics import accuracy_score, make_scorer\n",
    "\n",
    "cross_val_score(model,x_train,y_train,scoring=make_scorer(accuracy_score),cv=3)"
   ]
  },
  {
   "cell_type": "code",
   "execution_count": null,
   "metadata": {},
   "outputs": [],
   "source": [
    "pred = model.fit(x_train,y_train).predict(x_test)\n",
    "accuracy_score(pred,y_test)"
   ]
  },
  {
   "cell_type": "markdown",
   "metadata": {},
   "source": [
    "Using GridSearchCV"
   ]
  },
  {
   "cell_type": "code",
   "execution_count": null,
   "metadata": {},
   "outputs": [],
   "source": [
    "from sklearn.model_selection import GridSearchCV\n",
    "LR_parameter_grid = {\n",
    "    'C': [0.001, 0.01, 0.1, 1, 10, 100, 1000],\n",
    "    'penalty': ['l1', 'l2'],\n",
    "    'max_iter': list(range(100,800,100)),\n",
    "    'solver': ['netwon-cg', 'lbfgs', 'liblinear', 'sag', 'saga']\n",
    "}\n",
    "\n",
    "LR_search = GridSearchCV(LogisticRegression(), LR_parameter_grid, refit=True, verbose=3, cv=5)\n",
    "LR_search.fit(x_train, y_train)\n",
    "LR_search.best_params_\n",
    "\n",
    "print('Mean Accuracy: %.3f' % LR_search.best_score_)\n",
    "print('Config: %s' % LR_search.best_params_)"
   ]
  },
  {
   "cell_type": "code",
   "execution_count": null,
   "metadata": {},
   "outputs": [],
   "source": [
    "ll = LR_search.predict(x_test)\n",
    "accuracy_score(ll, y_test)"
   ]
  },
  {
   "cell_type": "markdown",
   "metadata": {},
   "source": []
  },
  {
   "cell_type": "markdown",
   "metadata": {},
   "source": [
    "TEST DATA PREDICTION"
   ]
  },
  {
   "cell_type": "code",
   "execution_count": null,
   "metadata": {},
   "outputs": [],
   "source": [
    "hhh = LR_search.predict(new_test)"
   ]
  },
  {
   "cell_type": "markdown",
   "metadata": {},
   "source": [
    "PREPARE THE SUBMISSION FILE "
   ]
  },
  {
   "cell_type": "code",
   "execution_count": null,
   "metadata": {},
   "outputs": [],
   "source": [
    "dftest = pd.DataFrame(data=hhh, columns=[\"Loan_Status\"])\n",
    "finalpred = pd.concat([ss[\"Loan_ID\"], dftest],axis=1)\n",
    "finalpred[\"Loan_Status\"]=finalpred[\"Loan_Status\"].map({1:'Y',0:'N'})\n",
    "finalpred.to_csv(\"finalprediction.csv\", index=False)"
   ]
  }
 ],
 "metadata": {
  "interpreter": {
   "hash": "bc16cc9e28a05190048fc252bdc931dcdd622bb57169c1b4fef0aba5daa0d1b2"
  },
  "kernelspec": {
   "display_name": "Python 3.10.2 64-bit (windows store)",
   "language": "python",
   "name": "python3"
  },
  "language_info": {
   "codemirror_mode": {
    "name": "ipython",
    "version": 3
   },
   "file_extension": ".py",
   "mimetype": "text/x-python",
   "name": "python",
   "nbconvert_exporter": "python",
   "pygments_lexer": "ipython3",
   "version": "3.10.4"
  },
  "orig_nbformat": 4
 },
 "nbformat": 4,
 "nbformat_minor": 2
}
